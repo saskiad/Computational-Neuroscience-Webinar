{
  "nbformat": 4,
  "nbformat_minor": 0,
  "metadata": {
    "colab": {
      "provenance": [],
      "authorship_tag": "ABX9TyOTelb1wQVQeUVvLsHkLXv+",
      "include_colab_link": true
    },
    "kernelspec": {
      "name": "python3",
      "display_name": "Python 3"
    },
    "language_info": {
      "name": "python"
    }
  },
  "cells": [
    {
      "cell_type": "markdown",
      "metadata": {
        "id": "view-in-github",
        "colab_type": "text"
      },
      "source": [
        "<a href=\"https://colab.research.google.com/github/saskiad/Computational-Neuroscience-Webinar/blob/main/Visual_Coding_Demo.ipynb\" target=\"_parent\"><img src=\"https://colab.research.google.com/assets/colab-badge.svg\" alt=\"Open In Colab\"/></a>"
      ]
    },
    {
      "cell_type": "markdown",
      "source": [
        "# Intro the the Allen Brain Observatory Visual Coding Ophys Dataset.\n",
        "This notebook demonstrates how to access and visualize data."
      ],
      "metadata": {
        "id": "tF9v8UsrVmqQ"
      }
    },
    {
      "cell_type": "code",
      "execution_count": 1,
      "metadata": {
        "id": "etDaFPuTVaJE"
      },
      "outputs": [],
      "source": [
        "# @title Run to initialize Allen Brain Observatory on Colab {display-mode: \"form\" }\n",
        "# run only once per runtime/session, and only if running in colab\n",
        "# the runtime will need to restart after\n",
        "%%capture\n",
        "!apt install s3fs\n",
        "!pip install allensdk\n",
        "!mkdir -p /data/allen-brain-observatory/\n",
        "!s3fs allen-brain-observatory /data/allen-brain-observatory/ -o public_bucket=1\n",
        "!pip install --upgrade pandas\n"
      ]
    },
    {
      "cell_type": "markdown",
      "source": [
        "Standard Imports"
      ],
      "metadata": {
        "id": "R1KjEGnHV7m3"
      }
    },
    {
      "cell_type": "code",
      "source": [
        "import numpy as np\n",
        "import pandas as pd\n",
        "import matplotlib.pyplot as plt\n",
        "%matplotlib inline"
      ],
      "metadata": {
        "id": "Otn3gfbDWFbZ"
      },
      "execution_count": 2,
      "outputs": []
    },
    {
      "cell_type": "markdown",
      "source": [
        "# Allen Brain Observatory set up\n",
        "This instantiates the tools in the Allen SDK that allow us to access the Brain Observatory data.\n",
        "\n",
        "The main entry point is the `BrainObservatoryCache` class. This class is responsible for accessing any data or metadata.\n",
        "\n",
        "We begin by importing the `BrainObservatoryCache` class and instantiating it, pointing it to our manifest file.\n",
        "\n",
        "`manifest_file` is a path to the where the manifest file is located. This needs to reflect where you are storing and accessing the data. Here, we are pointing it to the data on the S3 bucket."
      ],
      "metadata": {
        "id": "QyrPtZITWV5r"
      }
    },
    {
      "cell_type": "code",
      "source": [
        "from allensdk.core.brain_observatory_cache import BrainObservatoryCache\n",
        "\n",
        "manifest_file = '/data/allen-brain-observatory/visual-coding-2p/manifest.json'\n",
        "boc = BrainObservatoryCache(manifest_file=manifest_file)"
      ],
      "metadata": {
        "id": "I3y58o5xWb_g"
      },
      "execution_count": 3,
      "outputs": []
    },
    {
      "cell_type": "markdown",
      "source": [
        "The Brain Observatory Cache enables us to see the dimensions of the dataset.\n",
        "\n",
        "Let's take a look at the available depths, cre lines, areas, and stimuli available in the Brain Observatory datsset.\n",
        "\n"
      ],
      "metadata": {
        "id": "ujr9Sf5CYtS5"
      }
    },
    {
      "cell_type": "code",
      "source": [
        "# list of all targeted areas\n",
        "boc.get_all_targeted_structures()"
      ],
      "metadata": {
        "id": "Z-h05JoJY19b"
      },
      "execution_count": null,
      "outputs": []
    },
    {
      "cell_type": "code",
      "source": [
        "# list of all cre driver lines\n",
        "boc.get_all_cre_lines()"
      ],
      "metadata": {
        "id": "byN_eB9PY52t"
      },
      "execution_count": null,
      "outputs": []
    },
    {
      "cell_type": "code",
      "source": [
        "# list of all imaging depths\n",
        "boc.get_all_imaging_depths()"
      ],
      "metadata": {
        "id": "CacRk3MZY8vW"
      },
      "execution_count": null,
      "outputs": []
    },
    {
      "cell_type": "code",
      "source": [
        "# list of all stimuli\n",
        "boc.get_all_stimuli()"
      ],
      "metadata": {
        "id": "k1HBQEOMY_O_"
      },
      "execution_count": null,
      "outputs": []
    },
    {
      "cell_type": "markdown",
      "source": [
        "# Experiment containers\n",
        "The `experiment container` describes a set of 3 `sessions` performed for the same field of view (ie. same targeted area and imaging depth in the same mouse that targets the same set of neurons). Each experiment container has a unique ID number."
      ],
      "metadata": {
        "id": "zirzeZyZZJyH"
      }
    },
    {
      "cell_type": "markdown",
      "source": [
        "Choose a visual area and Cre line from the lists above"
      ],
      "metadata": {
        "id": "TuY1xe3YZZNl"
      }
    },
    {
      "cell_type": "code",
      "source": [
        "visual_area = 'VISal'\n",
        "cre_line ='Cux2-CreERT2'"
      ],
      "metadata": {
        "id": "DUJqpDPeZDWg"
      },
      "execution_count": 8,
      "outputs": []
    },
    {
      "cell_type": "markdown",
      "source": [
        "Get the list of all the experiment containers for that area and Cre line combination."
      ],
      "metadata": {
        "id": "jZ2wKd-SZfJS"
      }
    },
    {
      "cell_type": "code",
      "source": [
        "exps = boc.get_experiment_containers(targeted_structures=[visual_area], cre_lines=[cre_line])"
      ],
      "metadata": {
        "id": "iSACQodcZc5-"
      },
      "execution_count": 9,
      "outputs": []
    },
    {
      "cell_type": "code",
      "source": [
        "pd.DataFrame(exps)"
      ],
      "metadata": {
        "id": "lMcpoAc4Zjvw"
      },
      "execution_count": null,
      "outputs": []
    },
    {
      "cell_type": "markdown",
      "source": [
        "Let's look at one experiment container, imaged from Cux2, in VISp, from imaging depth 175 um."
      ],
      "metadata": {
        "id": "8VLzJjBpZpYp"
      }
    },
    {
      "cell_type": "code",
      "source": [
        "experiment_container_id = 511510736"
      ],
      "metadata": {
        "id": "cpZQI44wZl3k"
      },
      "execution_count": 11,
      "outputs": []
    },
    {
      "cell_type": "markdown",
      "source": [
        "Let's get all of the sessions for this container."
      ],
      "metadata": {
        "id": "Zd1ler85Z5-C"
      }
    },
    {
      "cell_type": "code",
      "source": [
        "pd.DataFrame(boc.get_ophys_experiments(experiment_container_ids=[experiment_container_id]))"
      ],
      "metadata": {
        "id": "27iC4wIkZsm7"
      },
      "execution_count": null,
      "outputs": []
    },
    {
      "cell_type": "markdown",
      "source": [
        "Let's find the session from this container that used the `natural_scenes` stimulus."
      ],
      "metadata": {
        "id": "TchLv-c4aFeD"
      }
    },
    {
      "cell_type": "code",
      "source": [
        "boc.get_ophys_experiments(experiment_container_ids=[experiment_container_id], stimuli=['natural_scenes'])\n"
      ],
      "metadata": {
        "id": "BVBak4XdZ0WF"
      },
      "execution_count": null,
      "outputs": []
    },
    {
      "cell_type": "markdown",
      "source": [
        "Each session has a unique ID, and we can use that ID to access the data for this session."
      ],
      "metadata": {
        "id": "u3B546xmaSzB"
      }
    },
    {
      "cell_type": "code",
      "source": [
        "session_id = boc.get_ophys_experiments(experiment_container_ids=[experiment_container_id],\n",
        "                                       stimuli=['natural_scenes'])[0]['id']\n",
        "print(session_id)"
      ],
      "metadata": {
        "id": "KQ1mh3WEaXfw"
      },
      "execution_count": null,
      "outputs": []
    },
    {
      "cell_type": "markdown",
      "source": [
        "# Ophys Experiment data\n",
        "This gives us access to everything in the NWB file for a single imaging session"
      ],
      "metadata": {
        "id": "I_BMAcA9afsB"
      }
    },
    {
      "cell_type": "code",
      "source": [
        "data_set = boc.get_ophys_experiment_data(ophys_experiment_id=session_id)"
      ],
      "metadata": {
        "id": "z2YxLSJHaZBX"
      },
      "execution_count": 15,
      "outputs": []
    },
    {
      "cell_type": "markdown",
      "source": [
        "We can use this `data_set` object to access all the pieces of data for the session. Let's take a look."
      ],
      "metadata": {
        "id": "vMbAHOXoatVe"
      }
    },
    {
      "cell_type": "markdown",
      "source": [
        "# Maximum projection\n",
        "This is the projection of the full motion corrected movie. It shows all of the neurons imaged during the session."
      ],
      "metadata": {
        "id": "_gW2wwRharFm"
      }
    },
    {
      "cell_type": "code",
      "source": [
        "max_projection = data_set.get_max_projection()\n",
        "\n",
        "fig = plt.figure(figsize=(6,6))\n",
        "plt.imshow(max_projection, cmap='gray')"
      ],
      "metadata": {
        "id": "jdPEuBreanU4"
      },
      "execution_count": null,
      "outputs": []
    },
    {
      "cell_type": "markdown",
      "source": [
        "# ROI Masks\n",
        "These are all of the segmented masks for cell bodies in this experiment."
      ],
      "metadata": {
        "id": "lYczWz-wa5sy"
      }
    },
    {
      "cell_type": "code",
      "source": [
        "rois = data_set.get_roi_mask_array()"
      ],
      "metadata": {
        "id": "SZwv_oJ8a5PC"
      },
      "execution_count": 17,
      "outputs": []
    },
    {
      "cell_type": "code",
      "source": [
        "print(rois.shape)\n",
        "print(\"Number of cells:\", rois.shape[0])"
      ],
      "metadata": {
        "id": "TmXyxiopbLcP"
      },
      "execution_count": null,
      "outputs": []
    },
    {
      "cell_type": "code",
      "source": [
        "plt.figure(figsize=(6,6))\n",
        "plt.imshow(rois.sum(axis=0))"
      ],
      "metadata": {
        "id": "gmqNX3KMbOOi"
      },
      "execution_count": null,
      "outputs": []
    },
    {
      "cell_type": "markdown",
      "source": [
        "# DF/F Traces\n",
        "There are a number of accessible traces in the NWB file, including raw fluorescence, neuropil corrected traces, demixed traces, and DF/F traces. There are also extracted events available.\n",
        "In this tutorial we will us DF/F to examine neural activity."
      ],
      "metadata": {
        "id": "4oQSBcY8bXrH"
      }
    },
    {
      "cell_type": "code",
      "source": [
        "ts, dff = data_set.get_dff_traces()"
      ],
      "metadata": {
        "id": "gleODN4MbT-J"
      },
      "execution_count": 20,
      "outputs": []
    },
    {
      "cell_type": "code",
      "source": [
        "dff.shape"
      ],
      "metadata": {
        "id": "q7qWlhx5boKs"
      },
      "execution_count": null,
      "outputs": []
    },
    {
      "cell_type": "markdown",
      "source": [
        "Let's plot the activity of the first 50 neurons from this session."
      ],
      "metadata": {
        "id": "vXIOREg3bteL"
      }
    },
    {
      "cell_type": "code",
      "source": [
        "fig = plt.figure(figsize=(10,8))\n",
        "for i in range(50):\n",
        "    plt.plot(dff[i,:]+(i*2), color='gray')"
      ],
      "metadata": {
        "id": "8ip_8omObph3"
      },
      "execution_count": null,
      "outputs": []
    },
    {
      "cell_type": "markdown",
      "source": [
        "# Stimulus epochs\n",
        "Several stimuli are shown during each imaging session, interleaved with each other. The stimulus epoch table provides information of these interleaved stimulus epochs"
      ],
      "metadata": {
        "id": "ETq1qziQb10S"
      }
    },
    {
      "cell_type": "code",
      "source": [
        "stim_epoch = data_set.get_stimulus_epoch_table()\n",
        "stim_epoch"
      ],
      "metadata": {
        "id": "9mU0u5QFbxB6"
      },
      "execution_count": null,
      "outputs": []
    },
    {
      "cell_type": "markdown",
      "source": [
        "Let's add the stimulus epoch information to the plot of neural activity."
      ],
      "metadata": {
        "id": "96WKSAzLcAnu"
      }
    },
    {
      "cell_type": "code",
      "source": [
        "#plot activity of first 50 neurons\n",
        "fig = plt.figure(figsize=(10,8))\n",
        "for i in range(50):\n",
        "    plt.plot(dff[i,:]+(i*2), color='gray')\n",
        "\n",
        "#for each stimulus, shade the plot when the stimulus is presented\n",
        "colors = ['blue','orange','green','red']\n",
        "for c,stim_name in enumerate(stim_epoch.stimulus.unique()):\n",
        "    stim = stim_epoch[stim_epoch.stimulus==stim_name]\n",
        "    for j in range(len(stim)):\n",
        "        plt.axvspan(xmin=stim.start.iloc[j], xmax=stim.end.iloc[j], color=colors[c], alpha=0.1)\n"
      ],
      "metadata": {
        "id": "qawIFj48b8ad"
      },
      "execution_count": null,
      "outputs": []
    },
    {
      "cell_type": "markdown",
      "source": [
        "# Running speed\n",
        "The running speed of the animal on the rotating disk during the entire session."
      ],
      "metadata": {
        "id": "O1orU9MvcdEB"
      }
    },
    {
      "cell_type": "code",
      "source": [
        "dxcm, tsd = data_set.get_running_speed()\n",
        "\n",
        "fig = plt.figure(figsize=(10,3))\n",
        "plt.plot(dxcm)\n",
        "plt.ylabel(\"Running speed (cm/s)\")"
      ],
      "metadata": {
        "id": "URb0k91gcFeg"
      },
      "execution_count": null,
      "outputs": []
    },
    {
      "cell_type": "markdown",
      "source": [
        "Let's add the running speed to our plot of neural activity and stimulus epochs."
      ],
      "metadata": {
        "id": "-tgdU7bZcrkc"
      }
    },
    {
      "cell_type": "code",
      "source": [
        "#plot activity of first 50 neurons\n",
        "fig = plt.figure(figsize=(10,10))\n",
        "for i in range(50):\n",
        "    plt.plot(dff[i,:]+(i*2), color='gray')\n",
        "\n",
        "#plot the running speed (scaled and offset to fit)\n",
        "plt.plot((0.2*dxcm)-20)\n",
        "\n",
        "#for each stimulus, shade the plot when the stimulus is presented\n",
        "colors = ['blue','orange','green','red']\n",
        "for c,stim_name in enumerate(stim_epoch.stimulus.unique()):\n",
        "    stim = stim_epoch[stim_epoch.stimulus==stim_name]\n",
        "    for j in range(len(stim)):\n",
        "        plt.axvspan(xmin=stim.start.iloc[j], xmax=stim.end.iloc[j], color=colors[c], alpha=0.1)\n"
      ],
      "metadata": {
        "id": "TGc6pA3Scjt-"
      },
      "execution_count": null,
      "outputs": []
    },
    {
      "cell_type": "markdown",
      "source": [
        "Let's look at a few individual neurons."
      ],
      "metadata": {
        "id": "d99Xncx9fAlU"
      }
    },
    {
      "cell_type": "code",
      "source": [
        "fig = plt.figure(figsize=(14,4))\n",
        "\n",
        "plt.plot(dff[49,:], color='gray')\n",
        "plt.plot((0.1*dxcm)-10)\n",
        "\n",
        "#for each stimulus, shade the plot when the stimulus is presented\n",
        "colors = ['blue','orange','green','red']\n",
        "for c,stim_name in enumerate(stim_epoch.stimulus.unique()):\n",
        "    stim = stim_epoch[stim_epoch.stimulus==stim_name]\n",
        "    for j in range(len(stim)):\n",
        "        plt.axvspan(xmin=stim.start.iloc[j], xmax=stim.end.iloc[j], color=colors[c], alpha=0.1)\n"
      ],
      "metadata": {
        "id": "YxLK8dFMfBZ5"
      },
      "execution_count": null,
      "outputs": []
    },
    {
      "cell_type": "code",
      "source": [
        "fig = plt.figure(figsize=(14,4))\n",
        "\n",
        "plt.plot(dff[4,:], color='gray')\n",
        "plt.plot((0.1*dxcm)-10)\n",
        "\n",
        "#for each stimulus, shade the plot when the stimulus is presented\n",
        "colors = ['blue','orange','green','red']\n",
        "for c,stim_name in enumerate(stim_epoch.stimulus.unique()):\n",
        "    stim = stim_epoch[stim_epoch.stimulus==stim_name]\n",
        "    for j in range(len(stim)):\n",
        "        plt.axvspan(xmin=stim.start.iloc[j], xmax=stim.end.iloc[j], color=colors[c], alpha=0.1)"
      ],
      "metadata": {
        "id": "ZTyHkKgMfMlJ"
      },
      "execution_count": null,
      "outputs": []
    },
    {
      "cell_type": "code",
      "source": [
        "fig = plt.figure(figsize=(14,4))\n",
        "\n",
        "plt.plot(dff[35,:], color='gray')\n",
        "plt.plot((0.1*dxcm)-10)\n",
        "\n",
        "#for each stimulus, shade the plot when the stimulus is presented\n",
        "colors = ['blue','orange','green','red']\n",
        "for c,stim_name in enumerate(stim_epoch.stimulus.unique()):\n",
        "    stim = stim_epoch[stim_epoch.stimulus==stim_name]\n",
        "    for j in range(len(stim)):\n",
        "        plt.axvspan(xmin=stim.start.iloc[j], xmax=stim.end.iloc[j], color=colors[c], alpha=0.1)"
      ],
      "metadata": {
        "id": "LicK5pwRfQma"
      },
      "execution_count": null,
      "outputs": []
    },
    {
      "cell_type": "markdown",
      "source": [
        "# Stimulus Table\n",
        "For each stimulus there is a stimulus table with information about the condition and timing of each trial."
      ],
      "metadata": {
        "id": "ilVjBhbQdEfU"
      }
    },
    {
      "cell_type": "code",
      "source": [
        "natural_scene_table = data_set.get_stimulus_table('natural_scenes')\n",
        "natural_scene_table.head(n=10)"
      ],
      "metadata": {
        "id": "4akRk29_c35A"
      },
      "execution_count": null,
      "outputs": []
    },
    {
      "cell_type": "markdown",
      "source": [
        "# Stimulus Template\n",
        "The images and movies presented during the session area also included in the NWB file as the stimulus template. Stimuli that are generated programmatically (eg. drifting and static gratings) do not have a stimulus template. There are tools in the SDK to recreate these stimuli."
      ],
      "metadata": {
        "id": "e7HNXKO1dVJ-"
      }
    },
    {
      "cell_type": "code",
      "source": [
        "natural_scene_template = data_set.get_stimulus_template('natural_scenes')"
      ],
      "metadata": {
        "id": "7H3ps7gndNvV"
      },
      "execution_count": 31,
      "outputs": []
    },
    {
      "cell_type": "code",
      "source": [
        "natural_scene_template.shape"
      ],
      "metadata": {
        "id": "hmqLjCu5dZxV"
      },
      "execution_count": null,
      "outputs": []
    },
    {
      "cell_type": "markdown",
      "source": [
        "Let's look at the scene presented in the first trial."
      ],
      "metadata": {
        "id": "0_zlS7afdesw"
      }
    },
    {
      "cell_type": "code",
      "source": [
        "scene_number = natural_scene_table.frame.loc[0]\n",
        "plt.imshow(natural_scene_template[scene_number,:,:], cmap='gray')"
      ],
      "metadata": {
        "id": "NPrEyddddb2D"
      },
      "execution_count": null,
      "outputs": []
    },
    {
      "cell_type": "markdown",
      "source": [
        "We can add the trials of this image to the plot of neural activity too:"
      ],
      "metadata": {
        "id": "ZpaHoOVVdp8e"
      }
    },
    {
      "cell_type": "code",
      "source": [
        "#plot activity of first 50 neurons\n",
        "fig = plt.figure(figsize=(10,10))\n",
        "for i in range(50):\n",
        "    plt.plot(dff[i,:]+(i*2), color='gray')\n",
        "\n",
        "#plot the running speed (scaled and offset to fit)\n",
        "plt.plot((0.2*dxcm)-20)\n",
        "\n",
        "#for each stimulus, shade the plot when the stimulus is presented\n",
        "colors = ['blue','orange','green','red']\n",
        "for c,stim_name in enumerate(stim_epoch.stimulus.unique()):\n",
        "    stim = stim_epoch[stim_epoch.stimulus==stim_name]\n",
        "    for j in range(len(stim)):\n",
        "        plt.axvspan(xmin=stim.start.iloc[j], xmax=stim.end.iloc[j], color=colors[c], alpha=0.1)\n",
        "\n",
        "#shade traces with the time of each presentation of the above scene\n",
        "stim_subset = natural_scene_table[natural_scene_table.frame==scene_number]\n",
        "for j in range(len(stim_subset)):\n",
        "    plt.axvspan(xmin=stim_subset.start.iloc[j], xmax=stim_subset.end.iloc[j], color='red', alpha=0.4)"
      ],
      "metadata": {
        "id": "EeErMmqkdi9v"
      },
      "execution_count": null,
      "outputs": []
    },
    {
      "cell_type": "markdown",
      "source": [
        "We can zoom in on these trials. We'll look at one neuron's responses to all the trials of one image."
      ],
      "metadata": {
        "id": "La13FxjWfZ5_"
      }
    },
    {
      "cell_type": "code",
      "source": [
        "cell_index=19\n",
        "scene_number=22\n",
        "\n",
        "stim_subset = natural_scene_table[natural_scene_table.frame==scene_number]\n",
        "\n",
        "for i in range(len(stim_subset)):\n",
        "    plt.plot(dff[cell_index,stim_subset.start.iloc[i]-10:stim_subset.end.iloc[i]+10], color='gray')\n",
        "plt.axvspan(10,18, color='red',alpha=0.2)\n"
      ],
      "metadata": {
        "id": "mIo3iu9Ud1jZ"
      },
      "execution_count": null,
      "outputs": []
    },
    {
      "cell_type": "code",
      "source": [],
      "metadata": {
        "id": "SOZQBy4deMLh"
      },
      "execution_count": null,
      "outputs": []
    }
  ]
}